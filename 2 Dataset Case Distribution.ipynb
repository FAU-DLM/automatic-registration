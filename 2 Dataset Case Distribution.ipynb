{
 "cells": [
  {
   "cell_type": "markdown",
   "metadata": {},
   "source": [
    "In this notebook, let's have a look at the database and add some label information to our dataframe."
   ]
  },
  {
   "cell_type": "markdown",
   "metadata": {},
   "source": [
    "# Imports"
   ]
  },
  {
   "cell_type": "code",
   "execution_count": 1,
   "metadata": {},
   "outputs": [],
   "source": [
    "import numpy as np"
   ]
  },
  {
   "cell_type": "code",
   "execution_count": 2,
   "metadata": {},
   "outputs": [],
   "source": [
    "import pathlib\n",
    "from pathlib import Path\n",
    "output_path = Path('Output')"
   ]
  },
  {
   "cell_type": "markdown",
   "metadata": {},
   "source": [
    "# A look at the labels"
   ]
  },
  {
   "cell_type": "markdown",
   "metadata": {},
   "source": [
    "## Importing labels and comparing them to our slides"
   ]
  },
  {
   "cell_type": "code",
   "execution_count": 3,
   "metadata": {},
   "outputs": [],
   "source": [
    "import csv\n",
    "\n",
    "tabDict = {}\n",
    "\n",
    "kortiFile = 'KortikotropHA_gelabled.txt'\n",
    "with open(kortiFile) as tsv:\n",
    "    for line in csv.reader(tsv, delimiter=\"\\t\"): #You can also use delimiter=\"\\t\" rather than giving a dialect.\n",
    "        tabDict[line[0]] = line[1].split()\n",
    "\n",
    "gonaFile = 'GonadotropeHA_gelabled.txt'\n",
    "with open(gonaFile) as tsv:\n",
    "    for line in csv.reader(tsv, delimiter=\"\\t\"): #You can also use delimiter=\"\\t\" rather than giving a dialect.\n",
    "        tabDict[line[0]] = line[1].split()"
   ]
  },
  {
   "cell_type": "markdown",
   "metadata": {},
   "source": [
    " - corticotrop=0\n",
    " - silent=3\n",
    " - gonadotrop=7\n",
    " - LH=8\n",
    " - FSH=9"
   ]
  },
  {
   "cell_type": "code",
   "execution_count": 4,
   "metadata": {
    "scrolled": true
   },
   "outputs": [
    {
     "name": "stdout",
     "output_type": "stream",
     "text": [
      "(classified)\n"
     ]
    }
   ],
   "source": [
    "dict(list(tabDict.items())[:10]), dict(list(tabDict.items())[-10:])"
   ]
  },
  {
   "cell_type": "code",
   "execution_count": 5,
   "metadata": {
    "scrolled": true
   },
   "outputs": [
    {
     "data": {
      "text/plain": [
       "843"
      ]
     },
     "execution_count": 5,
     "metadata": {},
     "output_type": "execute_result"
    }
   ],
   "source": [
    "len(tabDict)"
   ]
  },
  {
   "cell_type": "code",
   "execution_count": 5,
   "metadata": {},
   "outputs": [
    {
     "name": "stdout",
     "output_type": "stream",
     "text": [
      "classified\n"
     ]
    }
   ],
   "source": [
    "# importing the dataframe we built in Notebook 1\n",
    "import pandas as pd\n",
    "pair_df = pd.read_csv(output_path/'pairlist_df_after_notebook_1.csv')\n",
    "pair_df.head(3)"
   ]
  },
  {
   "cell_type": "code",
   "execution_count": 6,
   "metadata": {},
   "outputs": [
    {
     "data": {
      "text/plain": [
       "'re-example'"
      ]
     },
     "execution_count": 6,
     "metadata": {},
     "output_type": "execute_result"
    }
   ],
   "source": [
    "import re\n",
    "# testing regular expressions\n",
    "m2 = re.search(\n",
    "'(.+\\-.+)\\-.+\\-.+',\n",
    "'re-example-II-HE')\n",
    "m2.group(1)"
   ]
  },
  {
   "cell_type": "code",
   "execution_count": 8,
   "metadata": {},
   "outputs": [],
   "source": [
    "# are all names available in the label dictionary (\"tabDict\")?\n",
    "idsFromTable = []\n",
    "pair_df.reset_index(drop=True, inplace=True)\n",
    "for index, pair in pair_df.iterrows():\n",
    "    idHE = re.search('(.+?\\-.+?)\\-.+',pair[\"he name\"]).group(1)\n",
    "#     print(idHE) # e.g. '1929-13'\n",
    "    if idHE != re.search('(.+?\\-.+?)\\-.+',pair[\"ihc name\"]).group(1):\n",
    "        print(str(index) + \": HE='\" + pair[\"he name\"] + \"', IHC='\" + pair[\"ihc name\"] + \"''\")\n",
    "    if idHE not in tabDict:\n",
    "        print(str(index) + \": '\" + idHE)\n",
    "    idsFromTable.append(idHE)\n",
    "idsFromTable = list(set(idsFromTable))"
   ]
  },
  {
   "cell_type": "markdown",
   "metadata": {},
   "source": [
    "How many cases are labelled?"
   ]
  },
  {
   "cell_type": "code",
   "execution_count": 9,
   "metadata": {},
   "outputs": [
    {
     "data": {
      "text/plain": [
       "843"
      ]
     },
     "execution_count": 9,
     "metadata": {},
     "output_type": "execute_result"
    }
   ],
   "source": [
    "len(tabDict)"
   ]
  },
  {
   "cell_type": "markdown",
   "metadata": {},
   "source": [
    "How many cases do we have as slides?"
   ]
  },
  {
   "cell_type": "code",
   "execution_count": 10,
   "metadata": {},
   "outputs": [
    {
     "data": {
      "text/plain": [
       "409"
      ]
     },
     "execution_count": 10,
     "metadata": {},
     "output_type": "execute_result"
    }
   ],
   "source": [
    "len(idsFromTable)"
   ]
  },
  {
   "cell_type": "markdown",
   "metadata": {},
   "source": [
    "Since `tabDict` is oversatured, let's fetch only those IDs that are relevant"
   ]
  },
  {
   "cell_type": "code",
   "execution_count": 11,
   "metadata": {},
   "outputs": [
    {
     "name": "stdout",
     "output_type": "stream",
     "text": [
      "classified\n"
     ]
    }
   ],
   "source": [
    "relevantIDs = {x:tabDict[x] for x in tabDict if x in idsFromTable}\n",
    "list(relevantIDs)[:5]+['...']"
   ]
  },
  {
   "cell_type": "code",
   "execution_count": 12,
   "metadata": {},
   "outputs": [
    {
     "data": {
      "text/plain": [
       "409"
      ]
     },
     "execution_count": 12,
     "metadata": {},
     "output_type": "execute_result"
    }
   ],
   "source": [
    "numOfCases = len(relevantIDs)\n",
    "numOfCases"
   ]
  },
  {
   "cell_type": "markdown",
   "metadata": {},
   "source": [
    "## Making a label dataframe"
   ]
  },
  {
   "cell_type": "markdown",
   "metadata": {},
   "source": [
    "We now want to translate the labels and prepare them for a dataframe:"
   ]
  },
  {
   "cell_type": "code",
   "execution_count": 13,
   "metadata": {},
   "outputs": [
    {
     "name": "stdout",
     "output_type": "stream",
     "text": [
      "classified\n"
     ]
    }
   ],
   "source": [
    "labelMeanings = {0: 'ACTH', 8: 'LH', 9: 'FSH'}\n",
    "arrayForDF = []\n",
    "for rId in relevantIDs:\n",
    "    arrayForDF.append([rId, \" \".join([labelMeanings[x] for x in labelMeanings if str(x) in relevantIDs[rId]])])\n",
    "    \n",
    "#     print(rId, relevantIDs[rId])\n",
    "arrayForDF[:5]"
   ]
  },
  {
   "cell_type": "code",
   "execution_count": 14,
   "metadata": {
    "scrolled": false
   },
   "outputs": [
    {
     "name": "stdout",
     "output_type": "stream",
     "text": [
      "classified\n"
     ]
    }
   ],
   "source": [
    "df = pd.DataFrame(np.array(arrayForDF),\n",
    "                   columns=['ID', 'labels'])\n",
    "df"
   ]
  },
  {
   "cell_type": "code",
   "execution_count": 15,
   "metadata": {
    "scrolled": true
   },
   "outputs": [
    {
     "data": {
      "text/plain": [
       "ACTH      180\n",
       "LH FSH    179\n",
       "LH         31\n",
       "FSH        19\n",
       "Name: labels, dtype: int64"
      ]
     },
     "execution_count": 15,
     "metadata": {},
     "output_type": "execute_result"
    }
   ],
   "source": [
    "df['labels'].value_counts()"
   ]
  },
  {
   "cell_type": "markdown",
   "metadata": {},
   "source": [
    "Make sure it adds up to the number of all cases"
   ]
  },
  {
   "cell_type": "code",
   "execution_count": 16,
   "metadata": {},
   "outputs": [
    {
     "data": {
      "text/plain": [
       "True"
      ]
     },
     "execution_count": 16,
     "metadata": {},
     "output_type": "execute_result"
    }
   ],
   "source": [
    "acthCases = 180\n",
    "lhfshCases = 179\n",
    "lhCases = 31\n",
    "fshCases = 19\n",
    "acthCases + lhfshCases + lhCases + fshCases == numOfCases"
   ]
  },
  {
   "cell_type": "markdown",
   "metadata": {},
   "source": [
    "## Counting WSI-pairs"
   ]
  },
  {
   "cell_type": "markdown",
   "metadata": {},
   "source": [
    "Next, let's see how many WSI-pairs there are."
   ]
  },
  {
   "cell_type": "code",
   "execution_count": 17,
   "metadata": {},
   "outputs": [],
   "source": [
    "def getCaseIDFromName(slideName):\n",
    "    return re.search('(.+?\\-.+?)\\-.+',slideName).group(1)"
   ]
  },
  {
   "cell_type": "markdown",
   "metadata": {},
   "source": [
    "### ACTH pairs"
   ]
  },
  {
   "cell_type": "code",
   "execution_count": 18,
   "metadata": {
    "scrolled": true
   },
   "outputs": [
    {
     "name": "stdout",
     "output_type": "stream",
     "text": [
      "(classified)\n"
     ]
    }
   ],
   "source": [
    "df[:5]"
   ]
  },
  {
   "cell_type": "markdown",
   "metadata": {},
   "source": [
    "Let's see if some IDs are overrepresented in our dataset:"
   ]
  },
  {
   "cell_type": "code",
   "execution_count": 19,
   "metadata": {
    "scrolled": false
   },
   "outputs": [
    {
     "name": "stdout",
     "output_type": "stream",
     "text": [
      "WARNING: 8: 2\n",
      "WARNING: 10: 2\n",
      "WARNING: 11: 2\n",
      "WARNING: 18: 2\n",
      "WARNING: 31: 2\n",
      "WARNING: 39: 2\n",
      "WARNING: 46: 2\n",
      "WARNING: 47: 2\n",
      "WARNING: 56: 2\n",
      "WARNING: 82: 2\n",
      "WARNING: 95: 2\n",
      "WARNING: 102: 2\n",
      "WARNING: 116: 2\n",
      "WARNING: 118: 2\n",
      "WARNING: 124: 2\n",
      "WARNING: 129: 2\n",
      "WARNING: 131: 3\n",
      "WARNING: 133: 2\n",
      "WARNING: 136: 3\n",
      "WARNING: 146: 2\n"
     ]
    }
   ],
   "source": [
    "for i in range(len(df)):\n",
    "    if df['labels'][i] == 'ACTH':\n",
    "        howManySame = len(list(set([ihc_n for ihc_n in pair_df[\"ihc name\"] if getCaseIDFromName(ihc_n)==df['ID'][i]])))\n",
    "        if not howManySame == 1:\n",
    "            print(\"WARNING: \" + str(i) + \": \" + str(howManySame))"
   ]
  },
  {
   "cell_type": "markdown",
   "metadata": {},
   "source": [
    "Let's pick one index out of this list:"
   ]
  },
  {
   "cell_type": "code",
   "execution_count": 20,
   "metadata": {},
   "outputs": [
    {
     "name": "stdout",
     "output_type": "stream",
     "text": [
      "(classified)\n"
     ]
    }
   ],
   "source": [
    "oddIndex = 131\n",
    "pair_df.reset_index(drop=True, inplace=True)\n",
    "[(pair[\"ihc name\"], pair[\"he name\"]) for index, pair in pair_df.iterrows() if getCaseIDFromName(pair[\"ihc name\"])==df['ID'][oddIndex]]"
   ]
  },
  {
   "cell_type": "code",
   "execution_count": 21,
   "metadata": {},
   "outputs": [
    {
     "name": "stdout",
     "output_type": "stream",
     "text": [
      "(classified)\n"
     ]
    }
   ],
   "source": [
    "pair_df.head(3)"
   ]
  },
  {
   "cell_type": "markdown",
   "metadata": {},
   "source": [
    "Conclusion: For some IDs, there is more than one WSI pair. How many ACTH WSI pairs are there, then?"
   ]
  },
  {
   "cell_type": "code",
   "execution_count": 22,
   "metadata": {},
   "outputs": [
    {
     "data": {
      "text/plain": [
       "202"
      ]
     },
     "execution_count": 22,
     "metadata": {},
     "output_type": "execute_result"
    }
   ],
   "source": [
    "acthPairs = len(list(set([ihc_n for ihc_n in pair_df[\"ihc name\"] if 'ACTH' in ihc_n])))\n",
    "acthPairs"
   ]
  },
  {
   "cell_type": "markdown",
   "metadata": {},
   "source": [
    "From how many cases?"
   ]
  },
  {
   "cell_type": "code",
   "execution_count": 23,
   "metadata": {},
   "outputs": [
    {
     "data": {
      "text/plain": [
       "180"
      ]
     },
     "execution_count": 23,
     "metadata": {},
     "output_type": "execute_result"
    }
   ],
   "source": [
    "acthCases"
   ]
  },
  {
   "cell_type": "markdown",
   "metadata": {},
   "source": [
    "202 pairs from 180 cases then.\n",
    "\n",
    "Does the number of HE slides match the number of ACTH slides?"
   ]
  },
  {
   "cell_type": "code",
   "execution_count": 24,
   "metadata": {},
   "outputs": [
    {
     "data": {
      "text/plain": [
       "202"
      ]
     },
     "execution_count": 24,
     "metadata": {},
     "output_type": "execute_result"
    }
   ],
   "source": [
    "pair_df.reset_index(drop=True, inplace=True)\n",
    "HEslidesACTH = [pair[\"he name\"] for index, pair in pair_df.iterrows() if 'ACTH' in pair[\"ihc name\"]]\n",
    "uniqueHEslidesACTH = list(set(HEslidesACTH))\n",
    "len(uniqueHEslidesACTH)"
   ]
  },
  {
   "cell_type": "markdown",
   "metadata": {},
   "source": [
    "Yes it does. Wonderful."
   ]
  },
  {
   "cell_type": "markdown",
   "metadata": {},
   "source": [
    "### LH and FSH"
   ]
  },
  {
   "cell_type": "code",
   "execution_count": 25,
   "metadata": {},
   "outputs": [
    {
     "data": {
      "text/plain": [
       "ACTH      180\n",
       "LH FSH    179\n",
       "LH         31\n",
       "FSH        19\n",
       "Name: labels, dtype: int64"
      ]
     },
     "execution_count": 25,
     "metadata": {},
     "output_type": "execute_result"
    }
   ],
   "source": [
    "df['labels'].value_counts()"
   ]
  },
  {
   "cell_type": "code",
   "execution_count": 26,
   "metadata": {},
   "outputs": [
    {
     "data": {
      "text/plain": [
       "(179, 31, 19)"
      ]
     },
     "execution_count": 26,
     "metadata": {},
     "output_type": "execute_result"
    }
   ],
   "source": [
    "lhfshCases,lhCases,fshCases"
   ]
  },
  {
   "cell_type": "code",
   "execution_count": 27,
   "metadata": {},
   "outputs": [
    {
     "data": {
      "text/plain": [
       "229"
      ]
     },
     "execution_count": 27,
     "metadata": {},
     "output_type": "execute_result"
    }
   ],
   "source": [
    "lhfshCases+lhCases+fshCases"
   ]
  },
  {
   "cell_type": "markdown",
   "metadata": {},
   "source": [
    "229 cases of gonadotropic tissue\n",
    "\n",
    "How many slide pairs?"
   ]
  },
  {
   "cell_type": "code",
   "execution_count": 28,
   "metadata": {},
   "outputs": [
    {
     "data": {
      "text/plain": [
       "414"
      ]
     },
     "execution_count": 28,
     "metadata": {},
     "output_type": "execute_result"
    }
   ],
   "source": [
    "gona_slide_pairs = len(list(set([ihc_n for ihc_n in pair_df[\"ihc name\"] if 'LH' in ihc_n or 'FSH' in ihc_n])))\n",
    "gona_slide_pairs"
   ]
  },
  {
   "cell_type": "markdown",
   "metadata": {},
   "source": [
    "How many unique HE slides?"
   ]
  },
  {
   "cell_type": "code",
   "execution_count": 29,
   "metadata": {},
   "outputs": [
    {
     "data": {
      "text/plain": [
       "229"
      ]
     },
     "execution_count": 29,
     "metadata": {},
     "output_type": "execute_result"
    }
   ],
   "source": [
    "gona_he_slides = len(list(set([pair[\"he name\"] for index, pair in pair_df.iterrows() if 'LH' in pair[\"ihc name\"] or 'FSH' in pair[\"ihc name\"]])))\n",
    "gona_he_slides"
   ]
  },
  {
   "cell_type": "markdown",
   "metadata": {},
   "source": [
    "Ye that makes sense\n",
    "\n",
    "Does it add up though?"
   ]
  },
  {
   "cell_type": "code",
   "execution_count": 30,
   "metadata": {},
   "outputs": [
    {
     "data": {
      "text/plain": [
       "616"
      ]
     },
     "execution_count": 30,
     "metadata": {},
     "output_type": "execute_result"
    }
   ],
   "source": [
    "gona_slide_pairs+acthPairs"
   ]
  },
  {
   "cell_type": "code",
   "execution_count": 31,
   "metadata": {},
   "outputs": [
    {
     "data": {
      "text/plain": [
       "616"
      ]
     },
     "execution_count": 31,
     "metadata": {},
     "output_type": "execute_result"
    }
   ],
   "source": [
    "len(list(set([ihc_n for ihc_n in pair_df[\"ihc name\"]])))"
   ]
  },
  {
   "cell_type": "markdown",
   "metadata": {},
   "source": [
    "Yes it does"
   ]
  },
  {
   "cell_type": "markdown",
   "metadata": {},
   "source": [
    "#### FSH vs. LH vs. FSH+LH"
   ]
  },
  {
   "cell_type": "markdown",
   "metadata": {},
   "source": [
    "For how many cases do we have FSH only, for how many do we have LH only, for how many do we have both?"
   ]
  },
  {
   "cell_type": "markdown",
   "metadata": {},
   "source": [
    "FSH:"
   ]
  },
  {
   "cell_type": "code",
   "execution_count": 32,
   "metadata": {},
   "outputs": [
    {
     "data": {
      "text/plain": [
       "202"
      ]
     },
     "execution_count": 32,
     "metadata": {},
     "output_type": "execute_result"
    }
   ],
   "source": [
    "fsh_list = list(set([ihc_n for ihc_n in pair_df[\"ihc name\"] if 'FSH' in ihc_n]))\n",
    "fsh_num = len(fsh_list)\n",
    "fsh_num"
   ]
  },
  {
   "cell_type": "code",
   "execution_count": 33,
   "metadata": {},
   "outputs": [
    {
     "data": {
      "text/plain": [
       "202"
      ]
     },
     "execution_count": 33,
     "metadata": {},
     "output_type": "execute_result"
    }
   ],
   "source": [
    "fshcaselist = list(set([\n",
    "    re.search('(.+?\\-.+?)\\-.+',fsh).group(1)\n",
    "    for fsh in fsh_list]))\n",
    "len(fshcaselist)"
   ]
  },
  {
   "cell_type": "markdown",
   "metadata": {},
   "source": [
    "LH:"
   ]
  },
  {
   "cell_type": "code",
   "execution_count": 34,
   "metadata": {},
   "outputs": [
    {
     "data": {
      "text/plain": [
       "212"
      ]
     },
     "execution_count": 34,
     "metadata": {},
     "output_type": "execute_result"
    }
   ],
   "source": [
    "lh_list = list(set([ihc_n for ihc_n in pair_df[\"ihc name\"] if 'LH' in ihc_n]))\n",
    "lh_num = len(lh_list)\n",
    "lh_num"
   ]
  },
  {
   "cell_type": "code",
   "execution_count": 35,
   "metadata": {},
   "outputs": [
    {
     "data": {
      "text/plain": [
       "212"
      ]
     },
     "execution_count": 35,
     "metadata": {},
     "output_type": "execute_result"
    }
   ],
   "source": [
    "lhcaselist = list(set([\n",
    "    re.search('(.+?\\-.+?)\\-.+',lh).group(1)\n",
    "    for lh in lh_list]))\n",
    "len(lhcaselist)"
   ]
  },
  {
   "cell_type": "markdown",
   "metadata": {},
   "source": [
    "BOTH LH AND FSH:"
   ]
  },
  {
   "cell_type": "code",
   "execution_count": 36,
   "metadata": {},
   "outputs": [
    {
     "data": {
      "text/plain": [
       "185"
      ]
     },
     "execution_count": 36,
     "metadata": {},
     "output_type": "execute_result"
    }
   ],
   "source": [
    "lh_and_fsh = len([x for x in fshcaselist if x in lhcaselist])\n",
    "lh_and_fsh"
   ]
  },
  {
   "cell_type": "markdown",
   "metadata": {},
   "source": [
    "FSH ONLY:"
   ]
  },
  {
   "cell_type": "code",
   "execution_count": 37,
   "metadata": {},
   "outputs": [
    {
     "data": {
      "text/plain": [
       "17"
      ]
     },
     "execution_count": 37,
     "metadata": {},
     "output_type": "execute_result"
    }
   ],
   "source": [
    "fsh_only = len([x for x in fshcaselist if x not in lhcaselist])\n",
    "fsh_only"
   ]
  },
  {
   "cell_type": "markdown",
   "metadata": {},
   "source": [
    "LH ONLY:"
   ]
  },
  {
   "cell_type": "code",
   "execution_count": 38,
   "metadata": {},
   "outputs": [
    {
     "data": {
      "text/plain": [
       "27"
      ]
     },
     "execution_count": 38,
     "metadata": {},
     "output_type": "execute_result"
    }
   ],
   "source": [
    "lh_only = len([x for x in lhcaselist if x not in fshcaselist])\n",
    "lh_only"
   ]
  },
  {
   "cell_type": "markdown",
   "metadata": {},
   "source": [
    "Let's compare sums:"
   ]
  },
  {
   "cell_type": "code",
   "execution_count": 39,
   "metadata": {},
   "outputs": [
    {
     "data": {
      "text/plain": [
       "229"
      ]
     },
     "execution_count": 39,
     "metadata": {},
     "output_type": "execute_result"
    }
   ],
   "source": [
    "lh_and_fsh+fsh_only+lh_only"
   ]
  },
  {
   "cell_type": "code",
   "execution_count": 40,
   "metadata": {},
   "outputs": [
    {
     "data": {
      "text/plain": [
       "229"
      ]
     },
     "execution_count": 40,
     "metadata": {},
     "output_type": "execute_result"
    }
   ],
   "source": [
    "#from above\n",
    "lhfshCases+lhCases+fshCases"
   ]
  },
  {
   "cell_type": "markdown",
   "metadata": {},
   "source": [
    "Good, they're equal"
   ]
  },
  {
   "cell_type": "markdown",
   "metadata": {},
   "source": [
    "### HE"
   ]
  },
  {
   "cell_type": "markdown",
   "metadata": {},
   "source": [
    "How many HE slides do we have?"
   ]
  },
  {
   "cell_type": "code",
   "execution_count": 41,
   "metadata": {},
   "outputs": [
    {
     "data": {
      "text/plain": [
       "431"
      ]
     },
     "execution_count": 41,
     "metadata": {},
     "output_type": "execute_result"
    }
   ],
   "source": [
    "he_wsinum = len(list(set([he_n for he_n in pair_df[\"he name\"]])))\n",
    "he_wsinum"
   ]
  },
  {
   "cell_type": "markdown",
   "metadata": {},
   "source": [
    "### Sum"
   ]
  },
  {
   "cell_type": "code",
   "execution_count": 42,
   "metadata": {},
   "outputs": [
    {
     "data": {
      "text/plain": [
       "616"
      ]
     },
     "execution_count": 42,
     "metadata": {},
     "output_type": "execute_result"
    }
   ],
   "source": [
    "ihc_wsinum = len(list(set([ihc_n for ihc_n in pair_df[\"ihc name\"]])))\n",
    "ihc_wsinum"
   ]
  },
  {
   "cell_type": "code",
   "execution_count": 43,
   "metadata": {},
   "outputs": [
    {
     "data": {
      "text/plain": [
       "1047"
      ]
     },
     "execution_count": 43,
     "metadata": {},
     "output_type": "execute_result"
    }
   ],
   "source": [
    "wsinum = he_wsinum + ihc_wsinum\n",
    "wsinum"
   ]
  },
  {
   "cell_type": "code",
   "execution_count": 44,
   "metadata": {},
   "outputs": [
    {
     "data": {
      "text/plain": [
       "1047"
      ]
     },
     "execution_count": 44,
     "metadata": {},
     "output_type": "execute_result"
    }
   ],
   "source": [
    "wsinum2 = lh_and_fsh*3+fsh_only*2+lh_only*2 + acthPairs*2\n",
    "wsinum2"
   ]
  },
  {
   "cell_type": "code",
   "execution_count": 45,
   "metadata": {
    "scrolled": true
   },
   "outputs": [
    {
     "name": "stdout",
     "output_type": "stream",
     "text": [
      "We used a set of 1047 WSIs!\n"
     ]
    }
   ],
   "source": [
    "print(\"We used a set of \"+str(wsinum)+\" WSIs!\")"
   ]
  },
  {
   "cell_type": "markdown",
   "metadata": {},
   "source": [
    "# Adding labels to `pair_df`"
   ]
  },
  {
   "cell_type": "markdown",
   "metadata": {},
   "source": [
    "To do this, we reuse a regex from above:"
   ]
  },
  {
   "cell_type": "code",
   "execution_count": 46,
   "metadata": {},
   "outputs": [],
   "source": [
    "pair_df.reset_index(drop=True, inplace=True)\n",
    "for index, pair in pair_df.iterrows():\n",
    "    idHE = re.search('(.+?\\-.+?)\\-.+',pair[\"he name\"]).group(1)\n",
    "    thisLabels = df.loc[df['ID'] == idHE][\"labels\"].values[0]\n",
    "    pair_df.loc[index, 'case'] = idHE\n",
    "    pair_df.loc[index, 'labels'] = thisLabels"
   ]
  },
  {
   "cell_type": "code",
   "execution_count": 47,
   "metadata": {},
   "outputs": [
    {
     "name": "stdout",
     "output_type": "stream",
     "text": [
      "(classified)\n"
     ]
    }
   ],
   "source": [
    "pair_df"
   ]
  },
  {
   "cell_type": "markdown",
   "metadata": {},
   "source": [
    "We are happy with this result. Let's save the dataframe again."
   ]
  },
  {
   "cell_type": "code",
   "execution_count": 49,
   "metadata": {},
   "outputs": [],
   "source": [
    "pair_df.to_csv(output_path/'pairlist_df.csv', index=False)\n",
    "# as before, we save a copy we won't overwrite any more:\n",
    "pair_df.to_csv(output_path/'pairlist_df_after_notebook_2.csv', index=False)"
   ]
  }
 ],
 "metadata": {
  "kernelspec": {
   "display_name": "Python 3",
   "language": "python",
   "name": "python3"
  },
  "language_info": {
   "codemirror_mode": {
    "name": "ipython",
    "version": 3
   },
   "file_extension": ".py",
   "mimetype": "text/x-python",
   "name": "python",
   "nbconvert_exporter": "python",
   "pygments_lexer": "ipython3",
   "version": "3.8.5"
  },
  "toc": {
   "base_numbering": 1,
   "nav_menu": {},
   "number_sections": true,
   "sideBar": true,
   "skip_h1_title": false,
   "title_cell": "Table of Contents",
   "title_sidebar": "Contents",
   "toc_cell": false,
   "toc_position": {},
   "toc_section_display": true,
   "toc_window_display": false
  }
 },
 "nbformat": 4,
 "nbformat_minor": 4
}
